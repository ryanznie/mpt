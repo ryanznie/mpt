{
 "cells": [
  {
   "cell_type": "code",
   "execution_count": 1,
   "id": "ca839ab4",
   "metadata": {},
   "outputs": [],
   "source": [
    "import matplotlib.pyplot as plt\n",
    "import yfinance as yf"
   ]
  },
  {
   "cell_type": "code",
   "execution_count": 4,
   "id": "5ac4eef9",
   "metadata": {},
   "outputs": [],
   "source": [
    "class Portfolio():\n",
    "    def __init__(self):\n",
    "        self.portfolio = {}\n",
    "        self.tickers = []\n",
    "        \n",
    "    def __repr__(self):\n",
    "        string = ''\n",
    "        for name in self.tickers:\n",
    "            string += name\n",
    "        if string == '':\n",
    "            return \"You have no stocks in your portfolio.\"\n",
    "        \n",
    "        # plot pie plot \n",
    "#         plt.figure()\n",
    "#         plt.pie()\n",
    "        return f\"You have positions in {str(self.tickers)}.\"\n",
    "    \n",
    "    def get_portfolio(self):\n",
    "        return self.portfolio\n",
    "    \n",
    "    def get_position(self, ticker):\n",
    "        return self.portfolio[ticker]\n",
    "    \n",
    "    def get_prices(self):\n",
    "        for stock in self.tickers:\n",
    "            \n",
    "    \n",
    "    def buy_position(self, ticker, size):\n",
    "#         if ticker != string and size > 0:\n",
    "#             {;ease valid string}\n",
    "        if ticker not in self.tickers:\n",
    "            self.portfolio[ticker] = size\n",
    "            self.tickers.append(ticker)\n",
    "        else: \n",
    "            self.portfolio[ticker] += size\n",
    "        \n",
    "    def sell_position(self, ticker, size):\n",
    "        if size < self.portfolio[ticker]:\n",
    "            return f\"You do not own enough shares of {ticker}.\"\n",
    "        elif size == self.portfolio[ticker]:\n",
    "            return f\"Your entire position in {ticker} sold.\"\n",
    "        self.portfolio[ticker] -= size\n",
    "        return f\"Your updated position in {ticker} is {self.get_pos(ticker)} shares.\"\n",
    "    "
   ]
  },
  {
   "cell_type": "code",
   "execution_count": 7,
   "id": "165b49e1",
   "metadata": {},
   "outputs": [
    {
     "data": {
      "text/plain": [
       "{'AMD': 2, 'INTC': 3}"
      ]
     },
     "execution_count": 7,
     "metadata": {},
     "output_type": "execute_result"
    }
   ],
   "source": [
    "hi = Portfolio()\n",
    "hi.buy_position('AMD', 2)\n",
    "hi.buy_position('INTC', 3)\n",
    "hi.get_portfolio()"
   ]
  },
  {
   "cell_type": "code",
   "execution_count": null,
   "id": "b36ba7be",
   "metadata": {},
   "outputs": [],
   "source": []
  },
  {
   "cell_type": "code",
   "execution_count": null,
   "id": "f685a8e4",
   "metadata": {},
   "outputs": [],
   "source": []
  }
 ],
 "metadata": {
  "kernelspec": {
   "display_name": "Python myenv",
   "language": "python",
   "name": "myenv"
  },
  "language_info": {
   "codemirror_mode": {
    "name": "ipython",
    "version": 3
   },
   "file_extension": ".py",
   "mimetype": "text/x-python",
   "name": "python",
   "nbconvert_exporter": "python",
   "pygments_lexer": "ipython3",
   "version": "3.7.11"
  }
 },
 "nbformat": 4,
 "nbformat_minor": 5
}
